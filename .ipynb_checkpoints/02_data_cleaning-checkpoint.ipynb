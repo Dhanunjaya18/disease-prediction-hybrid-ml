{
 "cells": [
  {
   "cell_type": "markdown",
   "id": "ed7c175b",
   "metadata": {},
   "source": [
    "# 🧼 Day 2: Data Cleaning & Understanding"
   ]
  },
  {
   "cell_type": "code",
   "execution_count": null,
   "id": "88686915",
   "metadata": {},
   "outputs": [],
   "source": [
    "\n",
    "import pandas as pd\n",
    "import numpy as np\n",
    "\n",
    "# Load dataset\n",
    "df = pd.read_csv(\"diabetes.csv\")\n",
    "df.head()\n"
   ]
  },
  {
   "cell_type": "markdown",
   "id": "3cb33886",
   "metadata": {},
   "source": [
    "## 🔍 Basic Info and Description"
   ]
  },
  {
   "cell_type": "code",
   "execution_count": null,
   "id": "4f9e7af3",
   "metadata": {},
   "outputs": [],
   "source": [
    "\n",
    "# Check data types and missing values\n",
    "print(df.info())\n",
    "\n",
    "# Describe dataset statistically\n",
    "df.describe()\n"
   ]
  },
  {
   "cell_type": "markdown",
   "id": "f8a07ebc",
   "metadata": {},
   "source": [
    "## 🚨 Check for Missing or Invalid (0) Values"
   ]
  },
  {
   "cell_type": "code",
   "execution_count": null,
   "id": "7b41f312",
   "metadata": {},
   "outputs": [],
   "source": [
    "\n",
    "# Columns where 0 is likely an invalid entry\n",
    "cols_with_zero_invalid = ['Glucose', 'BloodPressure', 'SkinThickness', 'Insulin', 'BMI']\n",
    "\n",
    "# Count zero values in these columns\n",
    "for col in cols_with_zero_invalid:\n",
    "    print(f\"{col}: {(df[col] == 0).sum()} zeros\")\n"
   ]
  },
  {
   "cell_type": "markdown",
   "id": "86d926ca",
   "metadata": {},
   "source": [
    "## 🔧 Replace 0s with NaN and Impute with Median"
   ]
  },
  {
   "cell_type": "code",
   "execution_count": null,
   "id": "14f6c8dd",
   "metadata": {},
   "outputs": [],
   "source": [
    "\n",
    "# Replace 0s with NaN\n",
    "df[cols_with_zero_invalid] = df[cols_with_zero_invalid].replace(0, np.nan)\n",
    "\n",
    "# Impute NaN with median\n",
    "for col in cols_with_zero_invalid:\n",
    "    df[col].fillna(df[col].median(), inplace=True)\n",
    "\n",
    "# Confirm there are no NaNs left\n",
    "df.isnull().sum()\n"
   ]
  },
  {
   "cell_type": "markdown",
   "id": "ea513e2e",
   "metadata": {},
   "source": [
    "## ⚖️ Check Class Balance"
   ]
  },
  {
   "cell_type": "code",
   "execution_count": null,
   "id": "c01fb931",
   "metadata": {},
   "outputs": [],
   "source": [
    "\n",
    "# Check distribution of outcome (0 = No Diabetes, 1 = Diabetes)\n",
    "df['Outcome'].value_counts()\n"
   ]
  },
  {
   "cell_type": "markdown",
   "id": "ffbecf17",
   "metadata": {},
   "source": [
    "## 💾 Save Cleaned Dataset"
   ]
  },
  {
   "cell_type": "code",
   "execution_count": null,
   "id": "f4411371",
   "metadata": {},
   "outputs": [],
   "source": [
    "\n",
    "df.to_csv(\"diabetes_cleaned.csv\", index=False)\n"
   ]
  },
  {
   "cell_type": "markdown",
   "id": "104945af",
   "metadata": {},
   "source": [
    "## 📊 Optional: Histogram and Heatmap"
   ]
  },
  {
   "cell_type": "code",
   "execution_count": null,
   "id": "c471e9f4",
   "metadata": {},
   "outputs": [],
   "source": [
    "\n",
    "import matplotlib.pyplot as plt\n",
    "import seaborn as sns\n",
    "\n",
    "# Histograms\n",
    "df.hist(figsize=(12, 10))\n",
    "plt.tight_layout()\n",
    "plt.show()\n",
    "\n",
    "# Correlation Heatmap\n",
    "plt.figure(figsize=(10, 8))\n",
    "sns.heatmap(df.corr(), annot=True, cmap='coolwarm')\n",
    "plt.title(\"Correlation Heatmap\")\n",
    "plt.show()\n"
   ]
  }
 ],
 "metadata": {},
 "nbformat": 4,
 "nbformat_minor": 5
}